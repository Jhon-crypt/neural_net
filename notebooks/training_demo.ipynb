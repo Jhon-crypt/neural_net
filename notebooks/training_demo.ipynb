{
  "cells": [
    {
      "cell_type": "code",
      "execution_count": null,
      "metadata": {
        "vscode": {
          "languageId": "plaintext"
        }
      },
      "outputs": [],
      "source": [
        "# MNIST Neural Network Training Demo\n",
        "\n",
        "This notebook demonstrates the complete training process for our MNIST digit classifier, including data preparation, model architecture, training, and initial evaluation.\n",
        "\n",
        "## Overview\n",
        "- Load and preprocess MNIST dataset\n",
        "- Build neural network architecture\n",
        "- Train the model with visualization\n",
        "- Save the trained model\n",
        "- Basic performance evaluation\n"
      ]
    },
    {
      "cell_type": "code",
      "execution_count": null,
      "metadata": {
        "vscode": {
          "languageId": "plaintext"
        }
      },
      "outputs": [],
      "source": [
        "## Setup and Imports\n"
      ]
    },
    {
      "cell_type": "code",
      "execution_count": null,
      "metadata": {},
      "outputs": [],
      "source": [
        "import sys\n",
        "import os\n",
        "sys.path.append('../src')\n",
        "\n",
        "import numpy as np\n",
        "import matplotlib.pyplot as plt\n",
        "from mnist_classifier import MNISTClassifier\n",
        "\n",
        "# Set style for better plots\n",
        "plt.style.use('default')\n",
        "plt.rcParams['figure.figsize'] = (12, 8)\n",
        "\n",
        "print(\"✅ All imports successful!\")\n"
      ]
    },
    {
      "cell_type": "code",
      "execution_count": null,
      "metadata": {},
      "outputs": [],
      "source": [
        "## Initialize the Classifier\n"
      ]
    },
    {
      "cell_type": "code",
      "execution_count": null,
      "metadata": {},
      "outputs": [],
      "source": [
        "# Initialize the MNIST classifier\n",
        "classifier = MNISTClassifier(model_name=\"mnist_notebook_model\")\n",
        "\n",
        "print(\"🚀 MNIST Classifier initialized!\")\n",
        "print(f\"Model name: {classifier.model_name}\")\n"
      ]
    },
    {
      "cell_type": "code",
      "execution_count": null,
      "metadata": {},
      "outputs": [],
      "source": [
        "## Load and Explore the Dataset\n"
      ]
    },
    {
      "cell_type": "code",
      "execution_count": null,
      "metadata": {},
      "outputs": [],
      "source": [
        "# Load the MNIST dataset\n",
        "classifier.load_data()\n",
        "\n",
        "print(\"📊 Dataset Information:\")\n",
        "print(f\"Training images: {classifier.x_train.shape}\")\n",
        "print(f\"Training labels: {classifier.y_train.shape}\")\n",
        "print(f\"Test images: {classifier.x_test.shape}\")\n",
        "print(f\"Test labels: {classifier.y_test.shape}\")\n"
      ]
    },
    {
      "cell_type": "code",
      "execution_count": null,
      "metadata": {},
      "outputs": [],
      "source": [
        "### Visualize Sample Data\n"
      ]
    },
    {
      "cell_type": "code",
      "execution_count": null,
      "metadata": {},
      "outputs": [],
      "source": [
        "# Load original images for visualization\n",
        "import tensorflow as tf\n",
        "(x_train_orig, y_train_orig), (x_test_orig, y_test_orig) = tf.keras.datasets.mnist.load_data()\n",
        "\n",
        "# Plot sample images\n",
        "fig, axes = plt.subplots(2, 5, figsize=(12, 6))\n",
        "fig.suptitle('Sample MNIST Digits', fontsize=16, fontweight='bold')\n",
        "\n",
        "for i in range(10):\n",
        "    row = i // 5\n",
        "    col = i % 5\n",
        "    axes[row, col].imshow(x_train_orig[i], cmap='gray')\n",
        "    axes[row, col].set_title(f'Label: {y_train_orig[i]}', fontweight='bold')\n",
        "    axes[row, col].axis('off')\n",
        "\n",
        "plt.tight_layout()\n",
        "plt.show()\n",
        "\n",
        "print(\"✅ Sample visualization complete!\")\n"
      ]
    },
    {
      "cell_type": "code",
      "execution_count": null,
      "metadata": {},
      "outputs": [],
      "source": [
        "## Build and Train the Model\n"
      ]
    },
    {
      "cell_type": "code",
      "execution_count": null,
      "metadata": {},
      "outputs": [],
      "source": [
        "# Build and train the model\n",
        "print(\"🏗️ Building model...\")\n",
        "classifier.build_model()\n",
        "classifier.model.summary()\n",
        "\n",
        "print(\"\\n🎯 Starting training...\")\n",
        "classifier.train(epochs=10, batch_size=128)  # Reduced epochs for notebook demo\n",
        "\n",
        "print(\"\\n✅ Training completed!\")\n"
      ]
    },
    {
      "cell_type": "code",
      "execution_count": null,
      "metadata": {},
      "outputs": [],
      "source": [
        "## Evaluate and Save Model\n"
      ]
    },
    {
      "cell_type": "code",
      "execution_count": null,
      "metadata": {},
      "outputs": [],
      "source": [
        "# Evaluate and save\n",
        "test_loss, test_accuracy = classifier.evaluate()\n",
        "print(f\"🎯 Test Accuracy: {test_accuracy:.4f} ({test_accuracy*100:.2f}%)\")\n",
        "\n",
        "# Plot training history\n",
        "classifier.plot_training_history()\n",
        "\n",
        "# Save model\n",
        "classifier.save_model()\n",
        "print(f\"💾 Model saved as: models/{classifier.model_name}.keras\")\n",
        "\n",
        "print(\"🎉 Training demo completed successfully!\")\n"
      ]
    }
  ],
  "metadata": {
    "language_info": {
      "name": "python"
    }
  },
  "nbformat": 4,
  "nbformat_minor": 2
}
